{
  "nbformat": 4,
  "nbformat_minor": 0,
  "metadata": {
    "colab": {
      "name": "20192177최다현_과제5.ipynb",
      "provenance": [],
      "authorship_tag": "ABX9TyNc1peoSETwI2bUkwzaoGYp",
      "include_colab_link": true
    },
    "kernelspec": {
      "name": "python3",
      "display_name": "Python 3"
    },
    "language_info": {
      "name": "python"
    }
  },
  "cells": [
    {
      "cell_type": "markdown",
      "metadata": {
        "id": "view-in-github",
        "colab_type": "text"
      },
      "source": [
        "<a href=\"https://colab.research.google.com/github/ddhch/AIclass/blob/main/20192177%EC%B5%9C%EB%8B%A4%ED%98%84_%EA%B3%BC%EC%A0%9C5.ipynb\" target=\"_parent\"><img src=\"https://colab.research.google.com/assets/colab-badge.svg\" alt=\"Open In Colab\"/></a>"
      ]
    },
    {
      "cell_type": "markdown",
      "source": [
        "# 9.1"
      ],
      "metadata": {
        "id": "1zgoWy25isxE"
      }
    },
    {
      "cell_type": "code",
      "execution_count": null,
      "metadata": {
        "id": "ntvZ2AQ-ifTk"
      },
      "outputs": [],
      "source": [
        "\"\"\"\n",
        "1. 완전연결 계층에 이미지를 입력하려면 3차원인 이미지를 1차원으로 바꿔서 입력해야한다.\n",
        "따라서 데이터의 형상을 무시하고 모든 입력 데이터를 같은 차원의 뉴런으로 취급하여 형상에 담긴 정보를 살릴 수 없다.\n",
        "하지만 합성곱 계층은 형상을 유지한다. 이미지와 같은 3차원 데이터를 입력받으면 다음 계층에도 3차원 데이터로 전달한다. 형상을 가진 데이터를 제대로 이해할 수 있다.\n",
        "2. 합성곱 신경망은 학습 과정에 입력의 특징을 추출하는 방법도 함께 학습하므로 문제와 관련된 지식을 바탕으로 특징 추출해 내는 과정이 필요하지 않는다.\n",
        "\"\"\""
      ]
    },
    {
      "cell_type": "markdown",
      "source": [
        "# 9.2"
      ],
      "metadata": {
        "id": "YC8L8wlviwZg"
      }
    },
    {
      "cell_type": "code",
      "source": [
        "import tensorflow as tf\n",
        "from tensorflow import keras\n",
        "import numpy as np\n",
        "import matplotlib.pyplot as plt\n",
        "\n",
        "mnist = tf.keras.datasets.mnist\n",
        "\n",
        "(x_train, y_train), (x_test, y_test) = mnist.load_data()\n",
        "\n",
        "x_train = x_train.astype(np.float32) / 255.0\n",
        "x_test = x_test.astype(np.float32) / 255.0\n",
        "\n",
        "model = keras.models.Sequential( [\n",
        "    keras.layers.Conv2D(input_shape = (28, 28, 1),\n",
        "                        kernel_size = (3,3), activation='relu', padding = 'same', \n",
        "                        filters = 128),\n",
        "    keras.layers.MaxPooling2D((2, 2), strides=2),\n",
        "    keras.layers.Conv2D(kernel_size = (3,3), activation='relu', padding ='same', \n",
        "                        filters = 128),\n",
        "    keras.layers.Flatten(),\n",
        "    keras.layers.Dense(128, activation = 'relu'),\n",
        "    keras.layers.Dense(32, activation = 'relu'),\n",
        "    keras.layers.Dense(10, activation = 'softmax'),\n",
        "])"
      ],
      "metadata": {
        "id": "Laqxoj5Kx0uH"
      },
      "execution_count": 18,
      "outputs": []
    },
    {
      "cell_type": "code",
      "source": [
        "model.compile(optimizer='adam',\n",
        "             loss='sparse_categorical_crossentropy',\n",
        "             metrics=['accuracy'])\n",
        "history = model.fit(x_train, y_train, \n",
        "                      epochs=5, validation_split=0.25)"
      ],
      "metadata": {
        "colab": {
          "base_uri": "https://localhost:8080/"
        },
        "id": "fYvFL7X1N3IH",
        "outputId": "932f6668-4f30-43ba-a2d9-7d362fa2fff8"
      },
      "execution_count": 19,
      "outputs": [
        {
          "output_type": "stream",
          "name": "stdout",
          "text": [
            "Epoch 1/5\n",
            "1407/1407 [==============================] - 210s 149ms/step - loss: 0.1295 - accuracy: 0.9600 - val_loss: 0.0530 - val_accuracy: 0.9844\n",
            "Epoch 2/5\n",
            "1407/1407 [==============================] - 207s 147ms/step - loss: 0.0411 - accuracy: 0.9873 - val_loss: 0.0660 - val_accuracy: 0.9815\n",
            "Epoch 3/5\n",
            "1407/1407 [==============================] - 208s 148ms/step - loss: 0.0279 - accuracy: 0.9913 - val_loss: 0.0504 - val_accuracy: 0.9863\n",
            "Epoch 4/5\n",
            "1407/1407 [==============================] - 208s 148ms/step - loss: 0.0182 - accuracy: 0.9943 - val_loss: 0.0418 - val_accuracy: 0.9883\n",
            "Epoch 5/5\n",
            "1407/1407 [==============================] - 210s 149ms/step - loss: 0.0161 - accuracy: 0.9952 - val_loss: 0.0493 - val_accuracy: 0.9865\n"
          ]
        }
      ]
    },
    {
      "cell_type": "code",
      "source": [
        "print('합성곱 신경망 모델의 학습 결과 :')\n",
        "test_loss, test_acc = model.evaluate(x_test,  y_test, verbose=1)\n",
        "print('테스트 데이터의 손실값 : %1.2f 테스트 데이터의 정확도: %1.2f' %(test_loss , test_acc))"
      ],
      "metadata": {
        "colab": {
          "base_uri": "https://localhost:8080/"
        },
        "id": "7H8uGGxQzxkc",
        "outputId": "d87e18dc-f7b9-4f72-eccd-07ac3a477699"
      },
      "execution_count": 20,
      "outputs": [
        {
          "output_type": "stream",
          "name": "stdout",
          "text": [
            "합성곱 신경망 모델의 학습 결과 :\n",
            "313/313 [==============================] - 12s 37ms/step - loss: 0.0390 - accuracy: 0.9871\n",
            "테스트 데이터의 손실값 : 0.04 테스트 데이터의 정확도: 0.99\n"
          ]
        }
      ]
    }
  ]
}