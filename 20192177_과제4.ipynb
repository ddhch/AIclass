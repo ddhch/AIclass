{
  "nbformat": 4,
  "nbformat_minor": 0,
  "metadata": {
    "colab": {
      "name": "20192177_과제4.ipynb",
      "provenance": [],
      "authorship_tag": "ABX9TyNyWeHYwNTxGuMlFSo091D9",
      "include_colab_link": true
    },
    "kernelspec": {
      "name": "python3",
      "display_name": "Python 3"
    },
    "language_info": {
      "name": "python"
    }
  },
  "cells": [
    {
      "cell_type": "markdown",
      "metadata": {
        "id": "view-in-github",
        "colab_type": "text"
      },
      "source": [
        "<a href=\"https://colab.research.google.com/github/ddhch/AIclass/blob/main/20192177_%EA%B3%BC%EC%A0%9C4.ipynb\" target=\"_parent\"><img src=\"https://colab.research.google.com/assets/colab-badge.svg\" alt=\"Open In Colab\"/></a>"
      ]
    },
    {
      "cell_type": "code",
      "execution_count": 67,
      "metadata": {
        "id": "VokPh8L3_CC9"
      },
      "outputs": [],
      "source": [
        "from sklearn.datasets import load_iris \n",
        "\n",
        "iris = load_iris() \n",
        "\n",
        "import pandas as pd\n",
        "\n",
        "iris_df = pd.DataFrame(iris.data, columns=iris.feature_names)\n",
        "iris_df['target'] = pd.Series(iris.target)\n",
        "\n",
        "X = iris_df.iloc[:, :4]\n",
        "y = iris_df.iloc[:, -1]"
      ]
    },
    {
      "cell_type": "markdown",
      "source": [
        "# 8.1"
      ],
      "metadata": {
        "id": "ur2VSVCSDtBV"
      }
    },
    {
      "cell_type": "code",
      "source": [
        "from sklearn.model_selection import train_test_split\n",
        "X_train, X_test, y_train, y_test = train_test_split(X, y, \n",
        "                                                    test_size=0.3)\n",
        "\n",
        "X_train = X_train.to_numpy()\n",
        "y_train = y_train.to_numpy()\n",
        "X_test = X_test.to_numpy()\n",
        "y_test = y_test.to_numpy()\n",
        "\n",
        "print('훈련용 데이터의 형태:', X_train.shape)\n",
        "print('훈련용 데이터의 레이블 형태:', y_train.shape)\n",
        "print('테스트용 데이터의 형태:',X_test.shape)\n",
        "print('테스트용 데이터의 레이블 형태:',y_test.shape)\n",
        "print('개별 훈련 데이터의 형태',X_train[0].shape)"
      ],
      "metadata": {
        "colab": {
          "base_uri": "https://localhost:8080/"
        },
        "id": "jks85_TGC3ur",
        "outputId": "3b7d6a88-5a6f-4168-e322-794de715d283"
      },
      "execution_count": 68,
      "outputs": [
        {
          "output_type": "stream",
          "name": "stdout",
          "text": [
            "훈련용 데이터의 형태: (105, 4)\n",
            "훈련용 데이터의 레이블 형태: (105,)\n",
            "테스트용 데이터의 형태: (45, 4)\n",
            "테스트용 데이터의 레이블 형태: (45,)\n",
            "개별 훈련 데이터의 형태 (4,)\n"
          ]
        }
      ]
    },
    {
      "cell_type": "markdown",
      "source": [
        "# 8.2, 8.3, 8.4, 8.5 8.6"
      ],
      "metadata": {
        "id": "Cnso4LnCfV9p"
      }
    },
    {
      "cell_type": "code",
      "source": [
        "import tensorflow as tf\n",
        "from tensorflow import keras\n",
        "import numpy as np\n",
        "import matplotlib.pyplot as plt\n",
        "\n",
        "model = keras.models.Sequential( [\n",
        "    keras.layers.Flatten(input_shape = (4, )),\n",
        "    keras.layers.Dense(64, activation = 'relu'),\n",
        "    keras.layers.Dense(3, activation = 'softmax'),\n",
        "])\n",
        "\n",
        "# 학습을 위한 최적화 함수, 손실 함수등을 가진 모델을 컴파일\n",
        "model.compile(optimizer='adam', loss='sparse_categorical_crossentropy', metrics=['accuracy'])\n",
        "history = model.fit(X_train, y_train, batch_size = 5, epochs = 30)"
      ],
      "metadata": {
        "colab": {
          "base_uri": "https://localhost:8080/"
        },
        "id": "Jmdn0V4IfZNK",
        "outputId": "1a644b69-2b96-4456-9405-b2b4f48d5d53"
      },
      "execution_count": 69,
      "outputs": [
        {
          "output_type": "stream",
          "name": "stdout",
          "text": [
            "Epoch 1/30\n",
            "21/21 [==============================] - 0s 2ms/step - loss: 1.4026 - accuracy: 0.4381\n",
            "Epoch 2/30\n",
            "21/21 [==============================] - 0s 2ms/step - loss: 0.9542 - accuracy: 0.6190\n",
            "Epoch 3/30\n",
            "21/21 [==============================] - 0s 2ms/step - loss: 0.8201 - accuracy: 0.7048\n",
            "Epoch 4/30\n",
            "21/21 [==============================] - 0s 2ms/step - loss: 0.7482 - accuracy: 0.7333\n",
            "Epoch 5/30\n",
            "21/21 [==============================] - 0s 2ms/step - loss: 0.6754 - accuracy: 0.7048\n",
            "Epoch 6/30\n",
            "21/21 [==============================] - 0s 2ms/step - loss: 0.6183 - accuracy: 0.7143\n",
            "Epoch 7/30\n",
            "21/21 [==============================] - 0s 2ms/step - loss: 0.5732 - accuracy: 0.7238\n",
            "Epoch 8/30\n",
            "21/21 [==============================] - 0s 2ms/step - loss: 0.5425 - accuracy: 0.7238\n",
            "Epoch 9/30\n",
            "21/21 [==============================] - 0s 2ms/step - loss: 0.5061 - accuracy: 0.9333\n",
            "Epoch 10/30\n",
            "21/21 [==============================] - 0s 2ms/step - loss: 0.4904 - accuracy: 0.7429\n",
            "Epoch 11/30\n",
            "21/21 [==============================] - 0s 2ms/step - loss: 0.4559 - accuracy: 0.9429\n",
            "Epoch 12/30\n",
            "21/21 [==============================] - 0s 2ms/step - loss: 0.4511 - accuracy: 0.7714\n",
            "Epoch 13/30\n",
            "21/21 [==============================] - 0s 2ms/step - loss: 0.4162 - accuracy: 0.9333\n",
            "Epoch 14/30\n",
            "21/21 [==============================] - 0s 2ms/step - loss: 0.4003 - accuracy: 0.9143\n",
            "Epoch 15/30\n",
            "21/21 [==============================] - 0s 2ms/step - loss: 0.3872 - accuracy: 0.8762\n",
            "Epoch 16/30\n",
            "21/21 [==============================] - 0s 2ms/step - loss: 0.3710 - accuracy: 0.9429\n",
            "Epoch 17/30\n",
            "21/21 [==============================] - 0s 2ms/step - loss: 0.3686 - accuracy: 0.9333\n",
            "Epoch 18/30\n",
            "21/21 [==============================] - 0s 2ms/step - loss: 0.3534 - accuracy: 0.8952\n",
            "Epoch 19/30\n",
            "21/21 [==============================] - 0s 2ms/step - loss: 0.3389 - accuracy: 0.9619\n",
            "Epoch 20/30\n",
            "21/21 [==============================] - 0s 2ms/step - loss: 0.3221 - accuracy: 0.9429\n",
            "Epoch 21/30\n",
            "21/21 [==============================] - 0s 2ms/step - loss: 0.3187 - accuracy: 0.9619\n",
            "Epoch 22/30\n",
            "21/21 [==============================] - 0s 2ms/step - loss: 0.3047 - accuracy: 0.9524\n",
            "Epoch 23/30\n",
            "21/21 [==============================] - 0s 2ms/step - loss: 0.2926 - accuracy: 0.9714\n",
            "Epoch 24/30\n",
            "21/21 [==============================] - 0s 2ms/step - loss: 0.2888 - accuracy: 0.9429\n",
            "Epoch 25/30\n",
            "21/21 [==============================] - 0s 2ms/step - loss: 0.2843 - accuracy: 0.9714\n",
            "Epoch 26/30\n",
            "21/21 [==============================] - 0s 2ms/step - loss: 0.2656 - accuracy: 0.9619\n",
            "Epoch 27/30\n",
            "21/21 [==============================] - 0s 2ms/step - loss: 0.2599 - accuracy: 0.9810\n",
            "Epoch 28/30\n",
            "21/21 [==============================] - 0s 2ms/step - loss: 0.2519 - accuracy: 0.9714\n",
            "Epoch 29/30\n",
            "21/21 [==============================] - 0s 2ms/step - loss: 0.2433 - accuracy: 0.9619\n",
            "Epoch 30/30\n",
            "21/21 [==============================] - 0s 2ms/step - loss: 0.2405 - accuracy: 1.0000\n"
          ]
        }
      ]
    },
    {
      "cell_type": "code",
      "source": [
        "print('신경망 모델의 학습 결과 :')\n",
        "eval_loss, eval_acc = model.evaluate(X_test, y_test)\n",
        "print('test 데이터의 손실값', eval_loss, 'test 데이터의 정확도', eval_acc)"
      ],
      "metadata": {
        "colab": {
          "base_uri": "https://localhost:8080/"
        },
        "id": "OitCfj-M3Es5",
        "outputId": "00b125e0-c729-44d9-f644-791ea77986bb"
      },
      "execution_count": 70,
      "outputs": [
        {
          "output_type": "stream",
          "name": "stdout",
          "text": [
            "신경망 모델의 학습 결과 :\n",
            "WARNING:tensorflow:6 out of the last 11 calls to <function Model.make_test_function.<locals>.test_function at 0x7f5ea14c2b00> triggered tf.function retracing. Tracing is expensive and the excessive number of tracings could be due to (1) creating @tf.function repeatedly in a loop, (2) passing tensors with different shapes, (3) passing Python objects instead of tensors. For (1), please define your @tf.function outside of the loop. For (2), @tf.function has experimental_relax_shapes=True option that relaxes argument shapes that can avoid unnecessary retracing. For (3), please refer to https://www.tensorflow.org/guide/function#controlling_retracing and https://www.tensorflow.org/api_docs/python/tf/function for  more details.\n",
            "2/2 [==============================] - 0s 6ms/step - loss: 0.3176 - accuracy: 0.9111\n",
            "test 데이터의 손실값 0.3176301419734955 test 데이터의 정확도 0.9111111164093018\n"
          ]
        }
      ]
    },
    {
      "cell_type": "markdown",
      "source": [
        "# 8.8"
      ],
      "metadata": {
        "id": "tKZLQ8aY2_OE"
      }
    },
    {
      "cell_type": "code",
      "source": [
        "import pandas as pd\n",
        "\n",
        "his = pd.DataFrame(history.history)\n",
        "\n",
        "his.loc[:, :'loss'].plot(figsize = (5, 5))\n",
        "his.loc[:, 'accurancy':].plot(figsize = (5, 5))"
      ],
      "metadata": {
        "colab": {
          "base_uri": "https://localhost:8080/",
          "height": 645
        },
        "id": "gty2Ynq-3BAz",
        "outputId": "8043591b-1c59-4322-e4a3-c147d316cdcf"
      },
      "execution_count": 71,
      "outputs": [
        {
          "output_type": "execute_result",
          "data": {
            "text/plain": [
              "<matplotlib.axes._subplots.AxesSubplot at 0x7f5e9cb16810>"
            ]
          },
          "metadata": {},
          "execution_count": 71
        },
        {
          "output_type": "display_data",
          "data": {
            "text/plain": [
              "<Figure size 360x360 with 1 Axes>"
            ],
            "image/png": "[encoded data removed]"
          },
          "metadata": {}
        },
        {
          "output_type": "display_data",
          "data": {
            "text/plain": [
              "<Figure size 360x360 with 1 Axes>"
            ],
            "image/png": "[encoded data removed]"
          },
          "metadata": {}
        }
      ]
    },
    {
      "cell_type": "markdown",
      "source": [
        "# 8.9"
      ],
      "metadata": {
        "id": "2VdCoNo93KO_"
      }
    },
    {
      "cell_type": "code",
      "source": [
        "#드롭아웃 20퍼\n",
        "import tensorflow as tf\n",
        "from tensorflow import keras\n",
        "import numpy as np\n",
        "import matplotlib.pyplot as plt\n",
        "\n",
        "model = keras.models.Sequential( [\n",
        "    keras.layers.Flatten(input_shape = (4, )),\n",
        "    keras.layers.Dense(64, activation = 'relu'),\n",
        "    keras.layers.Dropout(0.2),\n",
        "    keras.layers.Dense(3, activation = 'softmax'),\n",
        "])\n",
        "\n",
        "# 학습을 위한 최적화 함수, 손실 함수등을 가진 모델을 컴파일\n",
        "model.compile(optimizer='adam', loss='sparse_categorical_crossentropy', metrics=['accuracy'])\n",
        "history = model.fit(X_train, y_train, batch_size = 5, epochs = 30)"
      ],
      "metadata": {
        "colab": {
          "base_uri": "https://localhost:8080/"
        },
        "id": "Ob3TkQ823JFM",
        "outputId": "fe33892c-4318-4af3-ca6c-f81bc76484cc"
      },
      "execution_count": 72,
      "outputs": [
        {
          "output_type": "stream",
          "name": "stdout",
          "text": [
            "Epoch 1/30\n",
            "21/21 [==============================] - 0s 2ms/step - loss: 1.4489 - accuracy: 0.2667\n",
            "Epoch 2/30\n",
            "21/21 [==============================] - 0s 2ms/step - loss: 1.1984 - accuracy: 0.2857\n",
            "Epoch 3/30\n",
            "21/21 [==============================] - 0s 2ms/step - loss: 1.0047 - accuracy: 0.4857\n",
            "Epoch 4/30\n",
            "21/21 [==============================] - 0s 2ms/step - loss: 0.8793 - accuracy: 0.6667\n",
            "Epoch 5/30\n",
            "21/21 [==============================] - 0s 2ms/step - loss: 0.8099 - accuracy: 0.5905\n",
            "Epoch 6/30\n",
            "21/21 [==============================] - 0s 2ms/step - loss: 0.7298 - accuracy: 0.6667\n",
            "Epoch 7/30\n",
            "21/21 [==============================] - 0s 2ms/step - loss: 0.5954 - accuracy: 0.7524\n",
            "Epoch 8/30\n",
            "21/21 [==============================] - 0s 2ms/step - loss: 0.5947 - accuracy: 0.7333\n",
            "Epoch 9/30\n",
            "21/21 [==============================] - 0s 2ms/step - loss: 0.5714 - accuracy: 0.7524\n",
            "Epoch 10/30\n",
            "21/21 [==============================] - 0s 2ms/step - loss: 0.5526 - accuracy: 0.6952\n",
            "Epoch 11/30\n",
            "21/21 [==============================] - 0s 2ms/step - loss: 0.4500 - accuracy: 0.8190\n",
            "Epoch 12/30\n",
            "21/21 [==============================] - 0s 2ms/step - loss: 0.4679 - accuracy: 0.7810\n",
            "Epoch 13/30\n",
            "21/21 [==============================] - 0s 2ms/step - loss: 0.4500 - accuracy: 0.8000\n",
            "Epoch 14/30\n",
            "21/21 [==============================] - 0s 2ms/step - loss: 0.4758 - accuracy: 0.7714\n",
            "Epoch 15/30\n",
            "21/21 [==============================] - 0s 2ms/step - loss: 0.4243 - accuracy: 0.7619\n",
            "Epoch 16/30\n",
            "21/21 [==============================] - 0s 2ms/step - loss: 0.4559 - accuracy: 0.7619\n",
            "Epoch 17/30\n",
            "21/21 [==============================] - 0s 2ms/step - loss: 0.4005 - accuracy: 0.8381\n",
            "Epoch 18/30\n",
            "21/21 [==============================] - 0s 2ms/step - loss: 0.3967 - accuracy: 0.8476\n",
            "Epoch 19/30\n",
            "21/21 [==============================] - 0s 2ms/step - loss: 0.3689 - accuracy: 0.8762\n",
            "Epoch 20/30\n",
            "21/21 [==============================] - 0s 2ms/step - loss: 0.3620 - accuracy: 0.8571\n",
            "Epoch 21/30\n",
            "21/21 [==============================] - 0s 2ms/step - loss: 0.3416 - accuracy: 0.8476\n",
            "Epoch 22/30\n",
            "21/21 [==============================] - 0s 2ms/step - loss: 0.3405 - accuracy: 0.8762\n",
            "Epoch 23/30\n",
            "21/21 [==============================] - 0s 2ms/step - loss: 0.3334 - accuracy: 0.8762\n",
            "Epoch 24/30\n",
            "21/21 [==============================] - 0s 2ms/step - loss: 0.3280 - accuracy: 0.9048\n",
            "Epoch 25/30\n",
            "21/21 [==============================] - 0s 2ms/step - loss: 0.3209 - accuracy: 0.8952\n",
            "Epoch 26/30\n",
            "21/21 [==============================] - 0s 2ms/step - loss: 0.3010 - accuracy: 0.9048\n",
            "Epoch 27/30\n",
            "21/21 [==============================] - 0s 2ms/step - loss: 0.2980 - accuracy: 0.9048\n",
            "Epoch 28/30\n",
            "21/21 [==============================] - 0s 2ms/step - loss: 0.2783 - accuracy: 0.9143\n",
            "Epoch 29/30\n",
            "21/21 [==============================] - 0s 2ms/step - loss: 0.2845 - accuracy: 0.9048\n",
            "Epoch 30/30\n",
            "21/21 [==============================] - 0s 2ms/step - loss: 0.2669 - accuracy: 0.9429\n"
          ]
        }
      ]
    },
    {
      "cell_type": "code",
      "source": [
        "print('신경망 모델의 학습 결과 :')\n",
        "eval_loss, eval_acc = model.evaluate(X_test, y_test)\n",
        "print('test 데이터의 손실값', eval_loss, 'test 데이터의 정확도', eval_acc)"
      ],
      "metadata": {
        "colab": {
          "base_uri": "https://localhost:8080/"
        },
        "id": "HeZa8SBs3PRv",
        "outputId": "0afb1367-2918-4acd-f073-4660a80e6206"
      },
      "execution_count": 73,
      "outputs": [
        {
          "output_type": "stream",
          "name": "stdout",
          "text": [
            "신경망 모델의 학습 결과 :\n",
            "2/2 [==============================] - 0s 8ms/step - loss: 0.3273 - accuracy: 0.9333\n",
            "test 데이터의 손실값 0.3273072838783264 test 데이터의 정확도 0.9333333373069763\n"
          ]
        }
      ]
    },
    {
      "cell_type": "code",
      "source": [
        "#드롭아웃 30퍼\n",
        "import tensorflow as tf\n",
        "from tensorflow import keras\n",
        "import numpy as np\n",
        "import matplotlib.pyplot as plt\n",
        "\n",
        "model = keras.models.Sequential( [\n",
        "    keras.layers.Flatten(input_shape = (4, )),\n",
        "    keras.layers.Dense(64, activation = 'relu'),\n",
        "    keras.layers.Dropout(0.3),\n",
        "    keras.layers.Dense(3, activation = 'softmax'),\n",
        "])\n",
        "\n",
        "# 학습을 위한 최적화 함수, 손실 함수등을 가진 모델을 컴파일\n",
        "model.compile(optimizer='adam', loss='sparse_categorical_crossentropy', metrics=['accuracy'])\n",
        "history = model.fit(X_train, y_train, batch_size = 5, epochs = 30)"
      ],
      "metadata": {
        "colab": {
          "base_uri": "https://localhost:8080/"
        },
        "id": "TkUDjfgL3QsX",
        "outputId": "ae9ca777-539d-4993-8ab0-f89ffff4e7be"
      },
      "execution_count": 74,
      "outputs": [
        {
          "output_type": "stream",
          "name": "stdout",
          "text": [
            "Epoch 1/30\n",
            "21/21 [==============================] - 0s 2ms/step - loss: 1.9178 - accuracy: 0.4857\n",
            "Epoch 2/30\n",
            "21/21 [==============================] - 0s 1ms/step - loss: 1.2634 - accuracy: 0.5619\n",
            "Epoch 3/30\n",
            "21/21 [==============================] - 0s 2ms/step - loss: 1.0236 - accuracy: 0.5333\n",
            "Epoch 4/30\n",
            "21/21 [==============================] - 0s 2ms/step - loss: 0.8438 - accuracy: 0.6095\n",
            "Epoch 5/30\n",
            "21/21 [==============================] - 0s 2ms/step - loss: 0.8077 - accuracy: 0.6095\n",
            "Epoch 6/30\n",
            "21/21 [==============================] - 0s 2ms/step - loss: 0.7145 - accuracy: 0.7048\n",
            "Epoch 7/30\n",
            "21/21 [==============================] - 0s 2ms/step - loss: 0.7244 - accuracy: 0.7143\n",
            "Epoch 8/30\n",
            "21/21 [==============================] - 0s 2ms/step - loss: 0.6209 - accuracy: 0.7429\n",
            "Epoch 9/30\n",
            "21/21 [==============================] - 0s 2ms/step - loss: 0.6293 - accuracy: 0.6952\n",
            "Epoch 10/30\n",
            "21/21 [==============================] - 0s 2ms/step - loss: 0.5279 - accuracy: 0.7905\n",
            "Epoch 11/30\n",
            "21/21 [==============================] - 0s 2ms/step - loss: 0.5544 - accuracy: 0.7048\n",
            "Epoch 12/30\n",
            "21/21 [==============================] - 0s 2ms/step - loss: 0.5723 - accuracy: 0.7333\n",
            "Epoch 13/30\n",
            "21/21 [==============================] - 0s 2ms/step - loss: 0.5309 - accuracy: 0.7524\n",
            "Epoch 14/30\n",
            "21/21 [==============================] - 0s 2ms/step - loss: 0.5147 - accuracy: 0.7810\n",
            "Epoch 15/30\n",
            "21/21 [==============================] - 0s 2ms/step - loss: 0.5025 - accuracy: 0.7714\n",
            "Epoch 16/30\n",
            "21/21 [==============================] - 0s 2ms/step - loss: 0.5253 - accuracy: 0.7143\n",
            "Epoch 17/30\n",
            "21/21 [==============================] - 0s 2ms/step - loss: 0.4800 - accuracy: 0.7905\n",
            "Epoch 18/30\n",
            "21/21 [==============================] - 0s 2ms/step - loss: 0.4842 - accuracy: 0.7619\n",
            "Epoch 19/30\n",
            "21/21 [==============================] - 0s 2ms/step - loss: 0.4276 - accuracy: 0.8190\n",
            "Epoch 20/30\n",
            "21/21 [==============================] - 0s 2ms/step - loss: 0.4623 - accuracy: 0.7714\n",
            "Epoch 21/30\n",
            "21/21 [==============================] - 0s 3ms/step - loss: 0.4511 - accuracy: 0.7714\n",
            "Epoch 22/30\n",
            "21/21 [==============================] - 0s 2ms/step - loss: 0.4215 - accuracy: 0.8000\n",
            "Epoch 23/30\n",
            "21/21 [==============================] - 0s 2ms/step - loss: 0.4423 - accuracy: 0.7810\n",
            "Epoch 24/30\n",
            "21/21 [==============================] - 0s 2ms/step - loss: 0.4116 - accuracy: 0.8190\n",
            "Epoch 25/30\n",
            "21/21 [==============================] - 0s 2ms/step - loss: 0.3915 - accuracy: 0.8476\n",
            "Epoch 26/30\n",
            "21/21 [==============================] - 0s 2ms/step - loss: 0.3823 - accuracy: 0.8381\n",
            "Epoch 27/30\n",
            "21/21 [==============================] - 0s 2ms/step - loss: 0.3415 - accuracy: 0.8571\n",
            "Epoch 28/30\n",
            "21/21 [==============================] - 0s 2ms/step - loss: 0.3400 - accuracy: 0.8857\n",
            "Epoch 29/30\n",
            "21/21 [==============================] - 0s 2ms/step - loss: 0.3589 - accuracy: 0.8476\n",
            "Epoch 30/30\n",
            "21/21 [==============================] - 0s 2ms/step - loss: 0.3470 - accuracy: 0.9048\n"
          ]
        }
      ]
    },
    {
      "cell_type": "code",
      "source": [
        "print('신경망 모델의 학습 결과 :')\n",
        "eval_loss, eval_acc = model.evaluate(X_test, y_test)\n",
        "print('test 데이터의 손실값', eval_loss, 'test 데이터의 정확도', eval_acc)"
      ],
      "metadata": {
        "colab": {
          "base_uri": "https://localhost:8080/"
        },
        "id": "_G5e8nZT3S_q",
        "outputId": "17812794-b828-4be6-a5e7-b8f7268d7b42"
      },
      "execution_count": 75,
      "outputs": [
        {
          "output_type": "stream",
          "name": "stdout",
          "text": [
            "신경망 모델의 학습 결과 :\n",
            "2/2 [==============================] - 0s 5ms/step - loss: 0.3914 - accuracy: 0.9111\n",
            "test 데이터의 손실값 0.39140981435775757 test 데이터의 정확도 0.9111111164093018\n"
          ]
        }
      ]
    },
    {
      "cell_type": "markdown",
      "source": [
        "# 8.10"
      ],
      "metadata": {
        "id": "BM-RsKzY3Vpd"
      }
    },
    {
      "cell_type": "code",
      "source": [
        "model = keras.models.Sequential( [\n",
        "    keras.layers.Flatten(input_shape = (4, )),\n",
        "    keras.layers.Dense(64, activation = 'relu'),\n",
        "    keras.layers.Dense(32, activation = 'relu'),\n",
        "    keras.layers.Dense(10, activation = 'relu'),\n",
        "    keras.layers.Dense(3, activation = 'softmax'),\n",
        "])\n",
        "\n",
        "# 학습을 위한 최적화 함수, 손실 함수등을 가진 모델을 컴파일\n",
        "model.compile(optimizer='adam', loss='sparse_categorical_crossentropy', metrics=['accuracy'])\n",
        "history = model.fit(X_train, y_train, batch_size = 5, epochs = 30)"
      ],
      "metadata": {
        "colab": {
          "base_uri": "https://localhost:8080/"
        },
        "id": "Hfk39dnL3XH-",
        "outputId": "0f360d0d-c4ce-4611-9a24-047bda313573"
      },
      "execution_count": 76,
      "outputs": [
        {
          "output_type": "stream",
          "name": "stdout",
          "text": [
            "Epoch 1/30\n",
            "21/21 [==============================] - 0s 3ms/step - loss: 0.9828 - accuracy: 0.3524\n",
            "Epoch 2/30\n",
            "21/21 [==============================] - 0s 2ms/step - loss: 0.8583 - accuracy: 0.4667\n",
            "Epoch 3/30\n",
            "21/21 [==============================] - 0s 2ms/step - loss: 0.8093 - accuracy: 0.5429\n",
            "Epoch 4/30\n",
            "21/21 [==============================] - 0s 2ms/step - loss: 0.7470 - accuracy: 0.8095\n",
            "Epoch 5/30\n",
            "21/21 [==============================] - 0s 2ms/step - loss: 0.6802 - accuracy: 0.9429\n",
            "Epoch 6/30\n",
            "21/21 [==============================] - 0s 2ms/step - loss: 0.5982 - accuracy: 0.8381\n",
            "Epoch 7/30\n",
            "21/21 [==============================] - 0s 2ms/step - loss: 0.5314 - accuracy: 0.9524\n",
            "Epoch 8/30\n",
            "21/21 [==============================] - 0s 2ms/step - loss: 0.4256 - accuracy: 0.9524\n",
            "Epoch 9/30\n",
            "21/21 [==============================] - 0s 2ms/step - loss: 0.3286 - accuracy: 0.9810\n",
            "Epoch 10/30\n",
            "21/21 [==============================] - 0s 2ms/step - loss: 0.2566 - accuracy: 0.9810\n",
            "Epoch 11/30\n",
            "21/21 [==============================] - 0s 3ms/step - loss: 0.2068 - accuracy: 0.9810\n",
            "Epoch 12/30\n",
            "21/21 [==============================] - 0s 2ms/step - loss: 0.1703 - accuracy: 0.9810\n",
            "Epoch 13/30\n",
            "21/21 [==============================] - 0s 2ms/step - loss: 0.1405 - accuracy: 0.9905\n",
            "Epoch 14/30\n",
            "21/21 [==============================] - 0s 2ms/step - loss: 0.1295 - accuracy: 0.9714\n",
            "Epoch 15/30\n",
            "21/21 [==============================] - 0s 2ms/step - loss: 0.1540 - accuracy: 0.9429\n",
            "Epoch 16/30\n",
            "21/21 [==============================] - 0s 2ms/step - loss: 0.1221 - accuracy: 0.9619\n",
            "Epoch 17/30\n",
            "21/21 [==============================] - 0s 2ms/step - loss: 0.0963 - accuracy: 1.0000\n",
            "Epoch 18/30\n",
            "21/21 [==============================] - 0s 2ms/step - loss: 0.0794 - accuracy: 1.0000\n",
            "Epoch 19/30\n",
            "21/21 [==============================] - 0s 3ms/step - loss: 0.0738 - accuracy: 1.0000\n",
            "Epoch 20/30\n",
            "21/21 [==============================] - 0s 2ms/step - loss: 0.0592 - accuracy: 0.9905\n",
            "Epoch 21/30\n",
            "21/21 [==============================] - 0s 2ms/step - loss: 0.0800 - accuracy: 0.9524\n",
            "Epoch 22/30\n",
            "21/21 [==============================] - 0s 2ms/step - loss: 0.0537 - accuracy: 1.0000\n",
            "Epoch 23/30\n",
            "21/21 [==============================] - 0s 2ms/step - loss: 0.0468 - accuracy: 0.9905\n",
            "Epoch 24/30\n",
            "21/21 [==============================] - 0s 2ms/step - loss: 0.0478 - accuracy: 1.0000\n",
            "Epoch 25/30\n",
            "21/21 [==============================] - 0s 2ms/step - loss: 0.0484 - accuracy: 0.9810\n",
            "Epoch 26/30\n",
            "21/21 [==============================] - 0s 2ms/step - loss: 0.0419 - accuracy: 0.9905\n",
            "Epoch 27/30\n",
            "21/21 [==============================] - 0s 3ms/step - loss: 0.0424 - accuracy: 1.0000\n",
            "Epoch 28/30\n",
            "21/21 [==============================] - 0s 2ms/step - loss: 0.0431 - accuracy: 0.9810\n",
            "Epoch 29/30\n",
            "21/21 [==============================] - 0s 2ms/step - loss: 0.0487 - accuracy: 0.9810\n",
            "Epoch 30/30\n",
            "21/21 [==============================] - 0s 2ms/step - loss: 0.0443 - accuracy: 0.9905\n"
          ]
        }
      ]
    },
    {
      "cell_type": "code",
      "source": [
        "import pandas as pd\n",
        "\n",
        "histo = pd.DataFrame(history.history)\n",
        "\n",
        "print('신경망 모델의 학습 결과 :')\n",
        "eval_loss, eval_acc = model.evaluate(X_test, y_test)\n",
        "print('test 데이터의 정확도 최대값', histo.max()[1], 'test 데이터의 정확도', eval_acc)"
      ],
      "metadata": {
        "colab": {
          "base_uri": "https://localhost:8080/"
        },
        "id": "3z6uLUzj3ZM9",
        "outputId": "c9a514cd-41bd-43d3-ea74-76627a8fc47f"
      },
      "execution_count": 77,
      "outputs": [
        {
          "output_type": "stream",
          "name": "stdout",
          "text": [
            "신경망 모델의 학습 결과 :\n",
            "2/2 [==============================] - 0s 7ms/step - loss: 0.1600 - accuracy: 0.9333\n",
            "test 데이터의 정확도 최대값 1.0 test 데이터의 정확도 0.9333333373069763\n"
          ]
        }
      ]
    }
  ]
}