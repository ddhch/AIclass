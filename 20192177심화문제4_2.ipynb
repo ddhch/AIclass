{
  "nbformat": 4,
  "nbformat_minor": 0,
  "metadata": {
    "colab": {
      "name": "20192177심화문제4.2.ipynb",
      "provenance": [],
      "collapsed_sections": [],
      "mount_file_id": "1_y6NoaOkYgHkqHnEBMR-WANE5YrTi2b8",
      "authorship_tag": "ABX9TyOXA80wsTerePygDYg4m5PC",
      "include_colab_link": true
    },
    "kernelspec": {
      "name": "python3",
      "display_name": "Python 3"
    },
    "language_info": {
      "name": "python"
    }
  },
  "cells": [
    {
      "cell_type": "markdown",
      "metadata": {
        "id": "view-in-github",
        "colab_type": "text"
      },
      "source": [
        "<a href=\"https://colab.research.google.com/github/ddhch/AIclass/blob/main/20192177%EC%8B%AC%ED%99%94%EB%AC%B8%EC%A0%9C4_2.ipynb\" target=\"_parent\"><img src=\"https://colab.research.google.com/assets/colab-badge.svg\" alt=\"Open In Colab\"/></a>"
      ]
    },
    {
      "cell_type": "code",
      "execution_count": 1,
      "metadata": {
        "id": "BRMW0Pk2WtRJ",
        "colab": {
          "base_uri": "https://localhost:8080/"
        },
        "outputId": "2c78af0d-0c94-47a1-e1ef-f6167f0a930f"
      },
      "outputs": [
        {
          "output_type": "stream",
          "name": "stdout",
          "text": [
            "    hp  weight  fuel\n",
            "0  130    1900  16.3\n",
            "1  250    2600  10.2\n",
            "2  190    2200  11.1\n",
            "3  300    2900   7.1\n",
            "4  210    2400  12.1\n",
            "5  220    2300  13.2\n",
            "6  170    2100  14.2\n"
          ]
        }
      ],
      "source": [
        "import matplotlib.pyplot as plt\n",
        "import numpy as np\n",
        "import pandas as pd\n",
        "from sklearn import linear_model\n",
        "import seaborn as sns \n",
        "from sklearn.model_selection import train_test_split\n",
        "\n",
        "data_loc = 'https://raw.githubusercontent.com/ddhch/AIclass/main/'\n",
        "lin_data = pd.read_csv(data_loc + 'car_git.csv')\n",
        "lin_data.dropna(inplace = True)\n",
        "print(lin_data)"
      ]
    },
    {
      "cell_type": "code",
      "source": [
        "X = lin_data[['hp', 'weight']]\n",
        "y = lin_data['fuel']\n",
        "\n",
        "X_train,X_test,y_train,y_test = train_test_split(X, y, test_size = 0.2)\n"
      ],
      "metadata": {
        "id": "6rZfDi483btt"
      },
      "execution_count": 3,
      "outputs": []
    },
    {
      "cell_type": "code",
      "source": [
        "regr = linear_model.LinearRegression()\n",
        "regr = regr.fit(X_train, y_train)"
      ],
      "metadata": {
        "id": "t54hOkaQ3dMF"
      },
      "execution_count": 4,
      "outputs": []
    },
    {
      "cell_type": "markdown",
      "source": [
        "# 4.2.1"
      ],
      "metadata": {
        "id": "MT6hj7kE42Dk"
      }
    },
    {
      "cell_type": "code",
      "source": [
        "print(\"계수 : \", regr.coef_)\n",
        "print(\"절편 : \", regr.intercept_)\n",
        "print(\"예측 점수 : \", regr.score(X_train, y_train))"
      ],
      "metadata": {
        "colab": {
          "base_uri": "https://localhost:8080/"
        },
        "id": "os7YKuzo46Df",
        "outputId": "4f6a7e41-2603-4e67-bc34-31e8cb40729a"
      },
      "execution_count": 5,
      "outputs": [
        {
          "output_type": "stream",
          "name": "stdout",
          "text": [
            "계수 :  [-0.00690789 -0.00709211]\n",
            "절편 :  30.111842105263158\n",
            "예측 점수 :  0.639480399093327\n"
          ]
        }
      ]
    },
    {
      "cell_type": "markdown",
      "source": [
        "# 4.2.2"
      ],
      "metadata": {
        "id": "TZePGzOz4s1g"
      }
    },
    {
      "cell_type": "code",
      "source": [
        "y_predict = [[270, 2500]] \n",
        "print(\"270 마력 2500kg 자동차의 예상 연비 :\", regr.predict(y_predict), \"km/l\")"
      ],
      "metadata": {
        "colab": {
          "base_uri": "https://localhost:8080/"
        },
        "id": "Ek9KytRj3f5N",
        "outputId": "1abe0cda-b1da-4046-f016-2e1a5cea1184"
      },
      "execution_count": 6,
      "outputs": [
        {
          "output_type": "stream",
          "name": "stdout",
          "text": [
            "270 마력 2500kg 자동차의 예상 연비 : [10.51644737] km/l\n"
          ]
        },
        {
          "output_type": "stream",
          "name": "stderr",
          "text": [
            "/usr/local/lib/python3.7/dist-packages/sklearn/base.py:451: UserWarning: X does not have valid feature names, but LinearRegression was fitted with feature names\n",
            "  \"X does not have valid feature names, but\"\n"
          ]
        }
      ]
    },
    {
      "cell_type": "markdown",
      "source": [
        "# 4.2.3"
      ],
      "metadata": {
        "id": "KuEiL0h6n1UC"
      }
    },
    {
      "cell_type": "code",
      "source": [
        "sns.pairplot(lin_data)"
      ],
      "metadata": {
        "colab": {
          "base_uri": "https://localhost:8080/",
          "height": 568
        },
        "id": "QPLcWA2Xn61S",
        "outputId": "269cc3b2-f344-4e82-e549-930368d30ab0"
      },
      "execution_count": 7,
      "outputs": [
        {
          "output_type": "execute_result",
          "data": {
            "text/plain": [
              "<seaborn.axisgrid.PairGrid at 0x7efeb5ac9850>"
            ]
          },
          "metadata": {},
          "execution_count": 7
        },
        {
          "output_type": "display_data",
          "data": {
            "text/plain": [
              "<Figure size 540x540 with 12 Axes>"
            ],
            "image/png": "[encoded data removed]"
          },
          "metadata": {
            "needs_background": "light"
          }
        }
      ]
    },
    {
      "cell_type": "markdown",
      "source": [
        "# 4.2.4"
      ],
      "metadata": {
        "id": "nRJbjjiaqDIs"
      }
    },
    {
      "cell_type": "code",
      "source": [
        "sns.set(rc={'figure.figsize':(12,10)})    # 상관행렬 가시\n",
        "correlation_matrix = lin_data.corr().round(2) # 상관행렬 생성\n",
        "sns.heatmap(data=correlation_matrix, annot=True)"
      ],
      "metadata": {
        "colab": {
          "base_uri": "https://localhost:8080/",
          "height": 616
        },
        "id": "cJq9fz1OqIQO",
        "outputId": "b933a9f0-bf8e-4446-e804-3b5940ccee0a"
      },
      "execution_count": 8,
      "outputs": [
        {
          "output_type": "execute_result",
          "data": {
            "text/plain": [
              "<matplotlib.axes._subplots.AxesSubplot at 0x7efeb671bf50>"
            ]
          },
          "metadata": {},
          "execution_count": 8
        },
        {
          "output_type": "display_data",
          "data": {
            "text/plain": [
              "<Figure size 864x720 with 2 Axes>"
            ],
            "image/png": "[encoded data removed]"
          },
          "metadata": {}
        }
      ]
    },
    {
      "cell_type": "markdown",
      "source": [
        "# 4.2.5"
      ],
      "metadata": {
        "id": "_-oEVopB0uzM"
      }
    },
    {
      "cell_type": "code",
      "source": [
        "\"\"\"\n",
        "1. 마력과 총중량은 서로 비례 관계이다. 즉 마력이 높은 차 일수록 총중량이 증가한다\n",
        "2. 마력, 총중량은 연비와 반비례 관계이다. 마력, 총증량이 증가할 수록 연비는 감소한다.\n",
        "3. 마력과 총중량은 양의 상관관계이고, 각각은 연비와 음의 상관관계이다. 둘다 절대값 1과 매우 근접하기 때문에 연관성이 크다.\n",
        "\"\"\""
      ],
      "metadata": {
        "id": "n_JGTmG-0w2T"
      },
      "execution_count": null,
      "outputs": []
    }
  ]
}