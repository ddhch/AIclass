{
  "nbformat": 4,
  "nbformat_minor": 0,
  "metadata": {
    "colab": {
      "name": "20192177과제3.ipynb",
      "provenance": [],
      "collapsed_sections": [],
      "authorship_tag": "ABX9TyP7laAz0qZooTzNKcQWmCuA",
      "include_colab_link": true
    },
    "kernelspec": {
      "name": "python3",
      "display_name": "Python 3"
    },
    "language_info": {
      "name": "python"
    }
  },
  "cells": [
    {
      "cell_type": "markdown",
      "metadata": {
        "id": "view-in-github",
        "colab_type": "text"
      },
      "source": [
        "<a href=\"https://colab.research.google.com/github/ddhch/AIclass/blob/main/20192177%EA%B3%BC%EC%A0%9C3.ipynb\" target=\"_parent\"><img src=\"https://colab.research.google.com/assets/colab-badge.svg\" alt=\"Open In Colab\"/></a>"
      ]
    },
    {
      "cell_type": "code",
      "source": [
        "import numpy as np\n",
        "\n",
        "W, b = np.array([0.0, 0.5]), 0.0\n",
        "learning_rate = 0.01 "
      ],
      "metadata": {
        "id": "SV0H8ALjapVB"
      },
      "execution_count": 46,
      "outputs": []
    },
    {
      "cell_type": "code",
      "source": [
        "def activation(s):\n",
        "  if s > 0: return 1\n",
        "  elif s < 0: return 0\n",
        "  return 0"
      ],
      "metadata": {
        "id": "4Vif5v2IiIGg"
      },
      "execution_count": 47,
      "outputs": []
    },
    {
      "cell_type": "code",
      "source": [
        "def out(x) :\n",
        "  return activation (W.dot(x) + b)"
      ],
      "metadata": {
        "id": "gBQL_lzviIoC"
      },
      "execution_count": 48,
      "outputs": []
    },
    {
      "cell_type": "code",
      "source": [
        "def train(x0, x1, target):\n",
        "  global W, b\n",
        "  X = np.array([x0, x1])\n",
        "  y = out(X)\n",
        "\n",
        "  ### 예측이 맞으면 아무것도 하지 않음-------------------------------------\n",
        "  if target == y: return False         # 가중치가 변경되지 않았음을 반환\n",
        "  ### 예측이 틀리면 학습 실시---------------------------------------------\n",
        "  print('가중치 수정전 target :{} y:{} b:{} W:{}'.format(target, y, b, W))\n",
        "  W = W + learning_rate * X * (target-y)   # 입력x출력 비례하여 가중치 변경\n",
        "  b = b + learning_rate * 1 * (target-y)   # 편향: 입력이 1이라고 볼 수 있음\n",
        "  print('가중치 수정후 target :{} y:{} b:{} W:{}'.format(target, y, b, W))\n",
        "  return True "
      ],
      "metadata": {
        "id": "exeA7CEYiLPx"
      },
      "execution_count": 49,
      "outputs": []
    },
    {
      "cell_type": "code",
      "source": [
        "def predict(inputs):\n",
        "  outputs = []\n",
        "  for x in inputs:\n",
        "      outputs.append (out(x))\n",
        "  return outputs"
      ],
      "metadata": {
        "id": "otSoXP0BiNrE"
      },
      "execution_count": 50,
      "outputs": []
    },
    {
      "cell_type": "code",
      "source": [
        "adjusted = 0\n",
        "for i in range(100):\n",
        "  adjusted += train(0, 0, 0)    # 훈련 데이터 1\n",
        "  adjusted += train(0, 1,  0)    # 훈련 데이터 2\n",
        "  adjusted += train( 1,0,  0)    # 훈련 데이터 3\n",
        "  adjusted += train( 1, 1,  1)    # 훈련 데이터 4\n",
        "  print(\"iteration -------------\", i)\n",
        "  if not adjusted: break  # 모든 훈련에 대해 가중치 변화 없으면 학습종료\n",
        "  adjusted = 0"
      ],
      "metadata": {
        "colab": {
          "base_uri": "https://localhost:8080/"
        },
        "id": "2nK7YYSEiPWI",
        "outputId": "1994cf5d-b97c-4df4-901f-23d5638c0af9"
      },
      "execution_count": 51,
      "outputs": [
        {
          "output_type": "stream",
          "name": "stdout",
          "text": [
            "가중치 수정전 target :0 y:1 b:0.0 W:[0.  0.5]\n",
            "가중치 수정후 target :0 y:1 b:-0.01 W:[0.   0.49]\n",
            "iteration ------------- 0\n",
            "가중치 수정전 target :0 y:1 b:-0.01 W:[0.   0.49]\n",
            "가중치 수정후 target :0 y:1 b:-0.02 W:[0.   0.48]\n",
            "iteration ------------- 1\n",
            "가중치 수정전 target :0 y:1 b:-0.02 W:[0.   0.48]\n",
            "가중치 수정후 target :0 y:1 b:-0.03 W:[0.   0.47]\n",
            "iteration ------------- 2\n",
            "가중치 수정전 target :0 y:1 b:-0.03 W:[0.   0.47]\n",
            "가중치 수정후 target :0 y:1 b:-0.04 W:[0.   0.46]\n",
            "iteration ------------- 3\n",
            "가중치 수정전 target :0 y:1 b:-0.04 W:[0.   0.46]\n",
            "가중치 수정후 target :0 y:1 b:-0.05 W:[0.   0.45]\n",
            "iteration ------------- 4\n",
            "가중치 수정전 target :0 y:1 b:-0.05 W:[0.   0.45]\n",
            "가중치 수정후 target :0 y:1 b:-0.060000000000000005 W:[0.   0.44]\n",
            "iteration ------------- 5\n",
            "가중치 수정전 target :0 y:1 b:-0.060000000000000005 W:[0.   0.44]\n",
            "가중치 수정후 target :0 y:1 b:-0.07 W:[0.   0.43]\n",
            "iteration ------------- 6\n",
            "가중치 수정전 target :0 y:1 b:-0.07 W:[0.   0.43]\n",
            "가중치 수정후 target :0 y:1 b:-0.08 W:[0.   0.42]\n",
            "iteration ------------- 7\n",
            "가중치 수정전 target :0 y:1 b:-0.08 W:[0.   0.42]\n",
            "가중치 수정후 target :0 y:1 b:-0.09 W:[0.   0.41]\n",
            "iteration ------------- 8\n",
            "가중치 수정전 target :0 y:1 b:-0.09 W:[0.   0.41]\n",
            "가중치 수정후 target :0 y:1 b:-0.09999999999999999 W:[0.  0.4]\n",
            "iteration ------------- 9\n",
            "가중치 수정전 target :0 y:1 b:-0.09999999999999999 W:[0.  0.4]\n",
            "가중치 수정후 target :0 y:1 b:-0.10999999999999999 W:[0.   0.39]\n",
            "iteration ------------- 10\n",
            "가중치 수정전 target :0 y:1 b:-0.10999999999999999 W:[0.   0.39]\n",
            "가중치 수정후 target :0 y:1 b:-0.11999999999999998 W:[0.   0.38]\n",
            "iteration ------------- 11\n",
            "가중치 수정전 target :0 y:1 b:-0.11999999999999998 W:[0.   0.38]\n",
            "가중치 수정후 target :0 y:1 b:-0.12999999999999998 W:[0.   0.37]\n",
            "iteration ------------- 12\n",
            "가중치 수정전 target :0 y:1 b:-0.12999999999999998 W:[0.   0.37]\n",
            "가중치 수정후 target :0 y:1 b:-0.13999999999999999 W:[0.   0.36]\n",
            "iteration ------------- 13\n",
            "가중치 수정전 target :0 y:1 b:-0.13999999999999999 W:[0.   0.36]\n",
            "가중치 수정후 target :0 y:1 b:-0.15 W:[0.   0.35]\n",
            "iteration ------------- 14\n",
            "가중치 수정전 target :0 y:1 b:-0.15 W:[0.   0.35]\n",
            "가중치 수정후 target :0 y:1 b:-0.16 W:[0.   0.34]\n",
            "iteration ------------- 15\n",
            "가중치 수정전 target :0 y:1 b:-0.16 W:[0.   0.34]\n",
            "가중치 수정후 target :0 y:1 b:-0.17 W:[0.   0.33]\n",
            "iteration ------------- 16\n",
            "가중치 수정전 target :0 y:1 b:-0.17 W:[0.   0.33]\n",
            "가중치 수정후 target :0 y:1 b:-0.18000000000000002 W:[0.   0.32]\n",
            "iteration ------------- 17\n",
            "가중치 수정전 target :0 y:1 b:-0.18000000000000002 W:[0.   0.32]\n",
            "가중치 수정후 target :0 y:1 b:-0.19000000000000003 W:[0.   0.31]\n",
            "iteration ------------- 18\n",
            "가중치 수정전 target :0 y:1 b:-0.19000000000000003 W:[0.   0.31]\n",
            "가중치 수정후 target :0 y:1 b:-0.20000000000000004 W:[0.  0.3]\n",
            "iteration ------------- 19\n",
            "가중치 수정전 target :0 y:1 b:-0.20000000000000004 W:[0.  0.3]\n",
            "가중치 수정후 target :0 y:1 b:-0.21000000000000005 W:[0.   0.29]\n",
            "iteration ------------- 20\n",
            "가중치 수정전 target :0 y:1 b:-0.21000000000000005 W:[0.   0.29]\n",
            "가중치 수정후 target :0 y:1 b:-0.22000000000000006 W:[0.   0.28]\n",
            "iteration ------------- 21\n",
            "가중치 수정전 target :0 y:1 b:-0.22000000000000006 W:[0.   0.28]\n",
            "가중치 수정후 target :0 y:1 b:-0.23000000000000007 W:[0.   0.27]\n",
            "iteration ------------- 22\n",
            "가중치 수정전 target :0 y:1 b:-0.23000000000000007 W:[0.   0.27]\n",
            "가중치 수정후 target :0 y:1 b:-0.24000000000000007 W:[0.   0.26]\n",
            "iteration ------------- 23\n",
            "가중치 수정전 target :0 y:1 b:-0.24000000000000007 W:[0.   0.26]\n",
            "가중치 수정후 target :0 y:1 b:-0.25000000000000006 W:[0.   0.25]\n",
            "가중치 수정전 target :1 y:0 b:-0.25000000000000006 W:[0.   0.25]\n",
            "가중치 수정후 target :1 y:0 b:-0.24000000000000005 W:[0.01 0.26]\n",
            "iteration ------------- 24\n",
            "가중치 수정전 target :0 y:1 b:-0.24000000000000005 W:[0.01 0.26]\n",
            "가중치 수정후 target :0 y:1 b:-0.25000000000000006 W:[0.01 0.25]\n",
            "iteration ------------- 25\n",
            "iteration ------------- 26\n"
          ]
        }
      ]
    },
    {
      "cell_type": "code",
      "source": [
        "X = [[0, 0], [0, 1], [1, 0], [1,1]]\n",
        "yhat = predict(X)\n",
        "print('--- 퍼셉트론으로 구현한 AND 게이트 ---')\n",
        "print('x0 x1  y')\n",
        "for i in range(len(X)):\n",
        "  print('{0:2d} {1:2d} {2:2d}'.format(X[i][0], X[i][1], yhat[i]))"
      ],
      "metadata": {
        "colab": {
          "base_uri": "https://localhost:8080/"
        },
        "id": "kJP5PtVriR-e",
        "outputId": "13316810-4f6c-448b-cfaf-ba87dc6af557"
      },
      "execution_count": 53,
      "outputs": [
        {
          "output_type": "stream",
          "name": "stdout",
          "text": [
            "--- 퍼셉트론으로 구현한 AND 게이트 ---\n",
            "x0 x1  y\n",
            " 0  0  0\n",
            " 0  1  0\n",
            " 1  0  0\n",
            " 1  1  1\n"
          ]
        }
      ]
    }
  ]
}