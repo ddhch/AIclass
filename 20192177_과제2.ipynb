{
  "nbformat": 4,
  "nbformat_minor": 0,
  "metadata": {
    "colab": {
      "name": "20192177과제2.ipynb",
      "provenance": [],
      "collapsed_sections": [],
      "toc_visible": true,
      "authorship_tag": "ABX9TyNw8al8vOzR/aUhu76PlTb7",
      "include_colab_link": true
    },
    "kernelspec": {
      "name": "python3",
      "display_name": "Python 3"
    },
    "language_info": {
      "name": "python"
    }
  },
  "cells": [
    {
      "cell_type": "markdown",
      "metadata": {
        "id": "view-in-github",
        "colab_type": "text"
      },
      "source": [
        "<a href=\"https://colab.research.google.com/github/ddhch/AIclass/blob/main/20192177_%EA%B3%BC%EC%A0%9C2.ipynb\" target=\"_parent\"><img src=\"https://colab.research.google.com/assets/colab-badge.svg\" alt=\"Open In Colab\"/></a>"
      ]
    },
    {
      "cell_type": "code",
      "execution_count": 72,
      "metadata": {
        "id": "GoZ6BWig2FhX"
      },
      "outputs": [],
      "source": [
        "import matplotlib.pyplot as plt\n",
        "import numpy as np\n",
        "from sklearn.neighbors import KNeighborsClassifier\n",
        "\n",
        "# 닥스 훈트의 몸 길이와 몸 높이\n",
        "dach_length = [75, 77, 83, 81, 73, 99, 72, 83]\n",
        "dach_height = [24, 29, 19, 32, 21, 22, 19, 34]\n",
        "\n",
        "# 사모예드의 몸 길이와 몸 높이\n",
        "samo_length = [76, 78, 82, 88, 76, 83, 81, 89]\n",
        "samo_height = [55, 58, 53, 54, 61, 52, 57, 64]\n",
        "\n",
        "#말티즈의 몸 길이와 몸 높이\n",
        "mal_length = [35, 39, 28, 41, 30, 57, 41, 35]\n",
        "mal_height = [23, 26, 19, 30, 21, 24, 28, 20]"
      ]
    },
    {
      "cell_type": "markdown",
      "source": [
        "# 5.1"
      ],
      "metadata": {
        "id": "X5ybEkwp2KQT"
      }
    },
    {
      "cell_type": "code",
      "source": [
        "d_data = np.column_stack((dach_length, dach_height))\n",
        "d_label = np.zeros(len(d_data))  # 닥스훈트는 0으로 레이블링"
      ],
      "metadata": {
        "id": "AprfsSGu3cWK"
      },
      "execution_count": 73,
      "outputs": []
    },
    {
      "cell_type": "code",
      "source": [
        "s_data = np.column_stack((samo_length, samo_height))\n",
        "s_label = np.ones(len(s_data))   # 사모예드는 1로 레이블링"
      ],
      "metadata": {
        "id": "qhDPToyX31Yu"
      },
      "execution_count": 74,
      "outputs": []
    },
    {
      "cell_type": "code",
      "source": [
        "m_data = np.column_stack((mal_length, mal_height))\n",
        "m_label = np.zeros(len(m_data))+2 # 말티즈는 2로 레이블링"
      ],
      "metadata": {
        "id": "nEYNUd6i32zf"
      },
      "execution_count": 75,
      "outputs": []
    },
    {
      "cell_type": "code",
      "source": [
        "print(\"닥스훈트(0) :\", d_data)\n",
        "print(\"사모에드(1) :\", s_data)\n",
        "print(\"말티즈(2) :\", m_data)"
      ],
      "metadata": {
        "colab": {
          "base_uri": "https://localhost:8080/"
        },
        "id": "-OjOQl1z481L",
        "outputId": "eb1a8a6d-b14d-4eb8-ac4f-57826b6f80b9"
      },
      "execution_count": 76,
      "outputs": [
        {
          "output_type": "stream",
          "name": "stdout",
          "text": [
            "닥스훈트(0) : [[75 24]\n",
            " [77 29]\n",
            " [83 19]\n",
            " [81 32]\n",
            " [73 21]\n",
            " [99 22]\n",
            " [72 19]\n",
            " [83 34]]\n",
            "사모에드(1) : [[76 55]\n",
            " [78 58]\n",
            " [82 53]\n",
            " [88 54]\n",
            " [76 61]\n",
            " [83 52]\n",
            " [81 57]\n",
            " [89 64]]\n",
            "말티즈(2) : [[35 23]\n",
            " [39 26]\n",
            " [28 19]\n",
            " [41 30]\n",
            " [30 21]\n",
            " [57 24]\n",
            " [41 28]\n",
            " [35 20]]\n"
          ]
        }
      ]
    },
    {
      "cell_type": "markdown",
      "source": [
        "# 5.2"
      ],
      "metadata": {
        "id": "P9gXu-zw5lYp"
      }
    },
    {
      "cell_type": "code",
      "source": [
        "import numpy as np\n",
        "from sklearn.neighbors import KNeighborsClassifier \n",
        "from sklearn import metrics \n",
        "\n",
        "dogs = np.concatenate((d_data, s_data, m_data))\n",
        "labels = np.concatenate((d_label, s_label, m_label))\n",
        "\n",
        "dog_classes = {0:'닥스훈트', 1:'사모에드', 2:'말티즈'}\n",
        "\n",
        "k=3\n",
        "knn = KNeighborsClassifier(n_neighbors = k)\n",
        "knn.fit(dogs, labels)\n"
      ],
      "metadata": {
        "colab": {
          "base_uri": "https://localhost:8080/"
        },
        "id": "HQTMgcba5MoB",
        "outputId": "8edaab7b-cdda-4546-c4ba-b6bcc467885c"
      },
      "execution_count": 104,
      "outputs": [
        {
          "output_type": "execute_result",
          "data": {
            "text/plain": [
              "KNeighborsClassifier(n_neighbors=3)"
            ]
          },
          "metadata": {},
          "execution_count": 104
        }
      ]
    },
    {
      "cell_type": "code",
      "source": [
        "from sklearn.metrics import confusion_matrix\n",
        "\n",
        "pred = knn.predict(dogs)\n",
        "confusion_matrix(labels, pred)   # 혼동행렬 만들기"
      ],
      "metadata": {
        "colab": {
          "base_uri": "https://localhost:8080/"
        },
        "id": "tR7bMjsXEpYu",
        "outputId": "fcf32a82-80c8-4437-e3e4-00425c0e3ec6"
      },
      "execution_count": 78,
      "outputs": [
        {
          "output_type": "execute_result",
          "data": {
            "text/plain": [
              "array([[8, 0, 0],\n",
              "       [0, 8, 0],\n",
              "       [1, 0, 7]])"
            ]
          },
          "metadata": {},
          "execution_count": 78
        }
      ]
    },
    {
      "cell_type": "markdown",
      "source": [
        "# 5.3"
      ],
      "metadata": {
        "id": "-u4e5NvwGeMY"
      }
    },
    {
      "cell_type": "code",
      "source": [
        "a_data = [[58, 30]]\n",
        "\n",
        "k = 3     # k를 3으로 두고 kNN 분류기를 만들어 보자\n",
        "knn = KNeighborsClassifier(n_neighbors = k) \n",
        "knn.fit(dogs, labels)\n",
        "y_pred = knn.predict(a_data)\n",
        "\n",
        "print(\"A 데이터 분류결과\")\n",
        "print('A', a_data, ': n_neighbors가 ', k, '일때 :', dog_classes[y_pred[0]])\n",
        "\n",
        "k = 5     # k를 5으로 두고 kNN 분류기를 만들어 보자\n",
        "knn = KNeighborsClassifier(n_neighbors = k) \n",
        "knn.fit(dogs, labels)\n",
        "y_pred = knn.predict(a_data)\n",
        "print(\"A 데이터 분류결과\")\n",
        "print(\"A\", a_data, \": n_neighbors가 \", k, \"일때 :\", dog_classes[y_pred[0]])\n",
        "\n",
        "k = 7     # k를 7으로 두고 kNN 분류기를 만들어 보자\n",
        "knn = KNeighborsClassifier(n_neighbors = k) \n",
        "knn.fit(dogs, labels)\n",
        "y_pred = knn.predict(a_data)\n",
        "print(\"A 데이터 분류결과\")\n",
        "print(\"A\", a_data, \": n_neighbors가 \", k, \"일때 :\", dog_classes[y_pred[0]])"
      ],
      "metadata": {
        "colab": {
          "base_uri": "https://localhost:8080/"
        },
        "id": "Jw47fQG-Gf79",
        "outputId": "61b35d49-8bdc-4b6d-cdf3-edd374f55852"
      },
      "execution_count": 105,
      "outputs": [
        {
          "output_type": "stream",
          "name": "stdout",
          "text": [
            "A 데이터 분류결과\n",
            "A [[58, 30]] : n_neighbors가  3 일때 : 말티즈\n",
            "A 데이터 분류결과\n",
            "A [[58, 30]] : n_neighbors가  5 일때 : 말티즈\n",
            "A 데이터 분류결과\n",
            "A [[58, 30]] : n_neighbors가  7 일때 : 닥스훈트\n"
          ]
        }
      ]
    },
    {
      "cell_type": "code",
      "source": [
        "b_data = [[80, 26]]\n",
        "\n",
        "k = 3     # k를 3으로 두고 kNN 분류기를 만들어 보자\n",
        "knn = KNeighborsClassifier(n_neighbors = k) \n",
        "knn.fit(dogs, labels)\n",
        "y_pred = knn.predict(b_data)\n",
        "print(\"B 데이터 분류결과\")\n",
        "print(\"B\", b_data, \": n_neighbors가 \", k, \"일때 :\", dog_classes[y_pred[0]])\n",
        "\n",
        "k = 5     # k를 5으로 두고 kNN 분류기를 만들어 보자\n",
        "knn = KNeighborsClassifier(n_neighbors = k) \n",
        "knn.fit(dogs, labels)\n",
        "y_pred = knn.predict(b_data)\n",
        "print(\"B 데이터 분류결과\")\n",
        "print(\"B\", b_data, \": n_neighbors가 \", k, \"일때 :\", dog_classes[y_pred[0]])\n",
        "\n",
        "k = 7     # k를 7으로 두고 kNN 분류기를 만들어 보자\n",
        "knn = KNeighborsClassifier(n_neighbors = k) \n",
        "knn.fit(dogs, labels)\n",
        "y_pred = knn.predict(b_data)\n",
        "print(\"B 데이터 분류결과\")\n",
        "print(\"B\", b_data, \": n_neighbors가 \", k, \"일때 :\", dog_classes[y_pred[0]])"
      ],
      "metadata": {
        "colab": {
          "base_uri": "https://localhost:8080/"
        },
        "id": "TUYpKhaXGxUk",
        "outputId": "1d2b2b3f-fb5a-4ea7-828c-35b0570084bb"
      },
      "execution_count": 106,
      "outputs": [
        {
          "output_type": "stream",
          "name": "stdout",
          "text": [
            "B 데이터 분류결과\n",
            "B [[80, 26]] : n_neighbors가  3 일때 : 닥스훈트\n",
            "B 데이터 분류결과\n",
            "B [[80, 26]] : n_neighbors가  5 일때 : 닥스훈트\n",
            "B 데이터 분류결과\n",
            "B [[80, 26]] : n_neighbors가  7 일때 : 닥스훈트\n"
          ]
        }
      ]
    },
    {
      "cell_type": "code",
      "source": [
        "c_data = [[80, 41]]\n",
        "\n",
        "k = 3     # k를 3으로 두고 kNN 분류기를 만들어 보자\n",
        "knn = KNeighborsClassifier(n_neighbors = k) \n",
        "knn.fit(dogs, labels)\n",
        "y_pred = knn.predict(c_data)\n",
        "print(\"C 데이터 분류결과\")\n",
        "print(\"C\", c_data, \": n_neighbors가 \", k, \"일때 :\", dog_classes[y_pred[0]])\n",
        "\n",
        "k = 5     # k를 5으로 두고 kNN 분류기를 만들어 보자\n",
        "knn = KNeighborsClassifier(n_neighbors = k) \n",
        "knn.fit(dogs, labels)\n",
        "y_pred = knn.predict(c_data)\n",
        "print(\"C 데이터 분류결과\")\n",
        "print(\"C\", c_data, \": n_neighbors가 \", k, \"일때 :\", dog_classes[y_pred[0]])\n",
        "\n",
        "k = 7     # k를 7으로 두고 kNN 분류기를 만들어 보자\n",
        "knn = KNeighborsClassifier(n_neighbors = k) \n",
        "knn.fit(dogs, labels)\n",
        "y_pred = knn.predict(c_data)\n",
        "print(\"C 데이터 분류결과\")\n",
        "print(\"C\", c_data, \": n_neighbors가 \", k, \"일때 :\", dog_classes[y_pred[0]])"
      ],
      "metadata": {
        "colab": {
          "base_uri": "https://localhost:8080/"
        },
        "id": "gG7rTIovGznO",
        "outputId": "8b7acefe-212c-4a04-9dd9-5a8e7b95c16a"
      },
      "execution_count": 107,
      "outputs": [
        {
          "output_type": "stream",
          "name": "stdout",
          "text": [
            "C 데이터 분류결과\n",
            "C [[80, 41]] : n_neighbors가  3 일때 : 닥스훈트\n",
            "C 데이터 분류결과\n",
            "C [[80, 41]] : n_neighbors가  5 일때 : 닥스훈트\n",
            "C 데이터 분류결과\n",
            "C [[80, 41]] : n_neighbors가  7 일때 : 사모에드\n"
          ]
        }
      ]
    },
    {
      "cell_type": "code",
      "source": [
        "d_data = [[75, 55]]\n",
        "\n",
        "k = 3     # k를 3으로 두고 kNN 분류기를 만들어 보자\n",
        "knn = KNeighborsClassifier(n_neighbors = k) \n",
        "knn.fit(dogs, labels)\n",
        "y_pred = knn.predict(d_data)\n",
        "print(\"D 데이터 분류결과\")\n",
        "print(\"D\", d_data, \": n_neighbors가 \", k, \"일때 :\", dog_classes[y_pred[0]])\n",
        "\n",
        "k = 5     # k를 5으로 두고 kNN 분류기를 만들어 보자\n",
        "knn = KNeighborsClassifier(n_neighbors = k) \n",
        "knn.fit(dogs, labels)\n",
        "y_pred = knn.predict(d_data)\n",
        "print(\"A 데이터 분류결과\")\n",
        "print(\"A\", d_data, \": n_neighbors가 \", k, \"일때 :\", dog_classes[y_pred[0]])\n",
        "\n",
        "k = 7     # k를 7으로 두고 kNN 분류기를 만들어 보자\n",
        "knn = KNeighborsClassifier(n_neighbors = k) \n",
        "knn.fit(dogs, labels)\n",
        "y_pred = knn.predict(d_data)\n",
        "print(\"A 데이터 분류결과\")\n",
        "print(\"A\", d_data, \": n_neighbors가 \", k, \"일때 :\", dog_classes[y_pred[0]])"
      ],
      "metadata": {
        "colab": {
          "base_uri": "https://localhost:8080/"
        },
        "id": "FDdHe2qOG2l6",
        "outputId": "1fb197f1-c45d-479e-8ff9-7c81639018c8"
      },
      "execution_count": 108,
      "outputs": [
        {
          "output_type": "stream",
          "name": "stdout",
          "text": [
            "D 데이터 분류결과\n",
            "D [[75, 55]] : n_neighbors가  3 일때 : 사모에드\n",
            "A 데이터 분류결과\n",
            "A [[75, 55]] : n_neighbors가  5 일때 : 사모에드\n",
            "A 데이터 분류결과\n",
            "A [[75, 55]] : n_neighbors가  7 일때 : 사모에드\n"
          ]
        }
      ]
    },
    {
      "cell_type": "markdown",
      "source": [
        "# 5.5"
      ],
      "metadata": {
        "id": "CAKlNd7lsgOi"
      }
    },
    {
      "cell_type": "code",
      "source": [
        "plt.scatter(dach_length, dach_height, c='red', label='Dachshund')\n",
        "plt.scatter(samo_length, samo_height,c='blue',marker='^', label='Samoyed')\n",
        "plt.scatter(mal_length, mal_height,c='green',marker='s', label='Maltese')\n",
        "\n",
        "plt.scatter(a_data[0][0], a_data[0][1],s = 350, c='purple', marker='o', label='A')\n",
        "plt.scatter(b_data[0][0], b_data[0][1], s = 350, c='gray', marker='o', label='B')\n",
        "plt.scatter(c_data[0][0], c_data[0][1], s = 350, c='skyblue', marker='o', label='C')\n",
        "plt.scatter(d_data[0][0], d_data[0][1], s = 350, c='green', marker='o', label='D')\n",
        "\n",
        "plt.xlabel('Length')              \n",
        "plt.ylabel('Height')              \n",
        "plt.title(\"Dog size\")\n",
        "plt.legend(loc='upper left')\n",
        "\n",
        "plt.show()"
      ],
      "metadata": {
        "colab": {
          "base_uri": "https://localhost:8080/",
          "height": 295
        },
        "id": "62dRsP-Gsh9b",
        "outputId": "83098415-fad5-4c28-d14b-f311ff83cb82"
      },
      "execution_count": 109,
      "outputs": [
        {
          "output_type": "display_data",
          "data": {
            "text/plain": [
              "<Figure size 432x288 with 1 Axes>"
            ],
            "image/png": "[encoded data removed]"
          },
          "metadata": {
            "needs_background": "light"
          }
        }
      ]
    },
    {
      "cell_type": "markdown",
      "source": [
        "# 5.6"
      ],
      "metadata": {
        "id": "7I8-6nk8sicq"
      }
    },
    {
      "cell_type": "code",
      "source": [
        "import numpy as np\n",
        "from sklearn import metrics\n",
        "import matplotlib.pyplot as plt\n",
        "\n",
        "# 닥스 훈트의 몸 길이와 몸 높이\n",
        "dach_length = [75, 77, 83, 81, 73, 99, 72, 83]\n",
        "dach_height = [24, 29, 19, 32, 21, 22, 19, 34]\n",
        "\n",
        "# 사모예드의 몸 길이와 몸 높이\n",
        "samo_length = [76, 78, 82, 88, 76, 83, 81, 89]\n",
        "samo_height = [55, 58, 53, 54, 61, 52, 57, 64]\n",
        "\n",
        "#말티즈의 몸 길이와 몸 높이\n",
        "mal_length = [35, 39, 28, 41, 30, 57, 41, 35]\n",
        "mal_height = [23, 26, 19, 30, 21, 24, 28, 20]\n",
        "\n",
        "d_data = np.column_stack((dach_length, dach_height))\n",
        "d_label = np.zeros(len(d_data))   # 닥스훈트는 0으로 레이블링\n",
        "s_data = np.column_stack((samo_length, samo_height))\n",
        "s_label = np.ones(len(s_data))   # 사모예드는 1로 레이블링\n",
        "m_data = np.column_stack((mal_length, mal_height))\n",
        "m_label = np.zeros(len(m_data))+2 # 말티즈는 2로 레이블링\n",
        "\n",
        "# 사모예드와 닥스 훈트, 말티즈의 길이, 높이 데이터는 생략한다\n",
        "# 개의 길이와 높이를 각각 ndarray 형태로 만든다\n",
        "dog_length = np.array(dach_length + samo_length + mal_length) # 리스트를 이어 ndarray로\n",
        "dog_height = np.array(dach_height + samo_height + mal_height) # 리스트를 이어 ndarray로\n",
        "\n",
        "dog_data = np.column_stack((dog_length, dog_height))\n",
        "\n",
        "plt.title(\"Dog data without label\")\n",
        "plt.scatter(dog_length, dog_height)"
      ],
      "metadata": {
        "colab": {
          "base_uri": "https://localhost:8080/",
          "height": 299
        },
        "id": "-fEz9rqkskGh",
        "outputId": "f300a844-1bc6-4d54-ce34-ef951c1a0936"
      },
      "execution_count": 100,
      "outputs": [
        {
          "output_type": "execute_result",
          "data": {
            "text/plain": [
              "<matplotlib.collections.PathCollection at 0x7f3d5358ed10>"
            ]
          },
          "metadata": {},
          "execution_count": 100
        },
        {
          "output_type": "display_data",
          "data": {
            "text/plain": [
              "<Figure size 432x288 with 1 Axes>"
            ],
            "image/png": "[encoded data removed]"
          },
          "metadata": {
            "needs_background": "light"
          }
        }
      ]
    },
    {
      "cell_type": "code",
      "source": [
        "from sklearn import cluster\n",
        "\n",
        "def kmeans_predict_plot(X, k):\n",
        "    model = cluster.KMeans(n_clusters=k)\n",
        "    model.fit(X)\n",
        "    labels = model.predict(X)    \n",
        "    colors = np.array(['red', 'green', 'blue', 'magenta'])\n",
        "    plt.suptitle('k-Means clustering, k={}'.format(k))\n",
        "    plt.scatter(X[:, 0], X[:, 1], color=colors[labels])\n",
        "\n",
        "kmeans_predict_plot(dog_data, k = 2)"
      ],
      "metadata": {
        "colab": {
          "base_uri": "https://localhost:8080/",
          "height": 294
        },
        "id": "KKnT4JSJ45qg",
        "outputId": "0a35fcb1-e37c-458f-be2b-3c5de662a777"
      },
      "execution_count": 101,
      "outputs": [
        {
          "output_type": "display_data",
          "data": {
            "text/plain": [
              "<Figure size 432x288 with 1 Axes>"
            ],
            "image/png": "[encoded data removed]"
          },
          "metadata": {
            "needs_background": "light"
          }
        }
      ]
    },
    {
      "cell_type": "code",
      "source": [
        "kmeans_predict_plot(dog_data, k = 3)"
      ],
      "metadata": {
        "colab": {
          "base_uri": "https://localhost:8080/",
          "height": 294
        },
        "id": "b5flinmO47Ny",
        "outputId": "d93bd648-5857-4d74-e333-c379f58e1ffc"
      },
      "execution_count": 102,
      "outputs": [
        {
          "output_type": "display_data",
          "data": {
            "text/plain": [
              "<Figure size 432x288 with 1 Axes>"
            ],
            "image/png": "[encoded data removed]"
          },
          "metadata": {
            "needs_background": "light"
          }
        }
      ]
    },
    {
      "cell_type": "code",
      "source": [
        "kmeans_predict_plot(dog_data, k = 4)"
      ],
      "metadata": {
        "colab": {
          "base_uri": "https://localhost:8080/",
          "height": 294
        },
        "id": "UDIZ4rQ549Qh",
        "outputId": "e7996d64-ead1-4110-95cd-a65ffa303778"
      },
      "execution_count": 103,
      "outputs": [
        {
          "output_type": "display_data",
          "data": {
            "text/plain": [
              "<Figure size 432x288 with 1 Axes>"
            ],
            "image/png": "[encoded data removed]"
          },
          "metadata": {
            "needs_background": "light"
          }
        }
      ]
    }
  ]
}